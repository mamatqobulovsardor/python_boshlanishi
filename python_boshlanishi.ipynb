{
  "nbformat": 4,
  "nbformat_minor": 0,
  "metadata": {
    "colab": {
      "provenance": [],
      "authorship_tag": "ABX9TyPTjqaB5GamlD/xklzvRSow",
      "include_colab_link": true
    },
    "kernelspec": {
      "name": "python3",
      "display_name": "Python 3"
    },
    "language_info": {
      "name": "python"
    }
  },
  "cells": [
    {
      "cell_type": "markdown",
      "metadata": {
        "id": "view-in-github",
        "colab_type": "text"
      },
      "source": [
        "<a href=\"https://colab.research.google.com/github/mamatqobulovsardor/python_boshlanishi/blob/main/python_boshlanishi.ipynb\" target=\"_parent\"><img src=\"https://colab.research.google.com/assets/colab-badge.svg\" alt=\"Open In Colab\"/></a>"
      ]
    },
    {
      "cell_type": "markdown",
      "source": [
        "##Print buyrug'i\n",
        "#####1.Ekranga 'Hello world' ni chiqaradi."
      ],
      "metadata": {
        "id": "LakeOGAgRh_S"
      }
    },
    {
      "cell_type": "code",
      "execution_count": 1,
      "metadata": {
        "colab": {
          "base_uri": "https://localhost:8080/"
        },
        "id": "pUpvxis2RRCo",
        "outputId": "de881795-ff8d-440a-a718-1e26492097b8"
      },
      "outputs": [
        {
          "output_type": "stream",
          "name": "stdout",
          "text": [
            "Hello world - singe quote\n",
            "Hello world - double quote\n"
          ]
        }
      ],
      "source": [
        "print('Hello world - singe quote')\n",
        "print(\"Hello world - double quote\")"
      ]
    },
    {
      "cell_type": "markdown",
      "source": [
        "Matn qatorlari bitta qo‘shtirnoq (' ') yoki ikkita qo‘shtirnoq (\" \") bilan o‘raladi."
      ],
      "metadata": {
        "id": "wTgN1p1TR_Ae"
      }
    },
    {
      "cell_type": "markdown",
      "source": [
        "\n",
        "##Butun sonlar bilan oddiy arifmetik amallar:  \n",
        "a = 19  \n",
        "b = 2  \n",
        "\n",
        "1.Qo‘shish, ayirish, ko‘paytirish, bo‘lish,  \n",
        "2.Butun bo‘lish, qoldiqni topish, darajaga ko‘tarish.\"**"
      ],
      "metadata": {
        "id": "aGpCTHvuSdg1"
      }
    },
    {
      "cell_type": "code",
      "source": [
        "a, b = 19, 2\n",
        "print(a+b, a-b, a*b, a/b)\n",
        "print(a//b, a%b, a**b)"
      ],
      "metadata": {
        "colab": {
          "base_uri": "https://localhost:8080/"
        },
        "id": "8sVpuCI0R1du",
        "outputId": "d56da212-5d07-4107-f758-9ee25a1fbcad"
      },
      "execution_count": 2,
      "outputs": [
        {
          "output_type": "stream",
          "name": "stdout",
          "text": [
            "21 17 38 9.5\n",
            "9 1 361\n"
          ]
        }
      ]
    },
    {
      "cell_type": "markdown",
      "source": [
        "##Shart buyrug‘i:  \n",
        "1.n juft yoki toq  \n",
        "2.Agar n juft bo‘lsa, n/2 ni chiqaring; aks holda, agar n < 10 bo‘lsa, 2*n ni chiqaring; aks holda n-1 ni chiqaring.  "
      ],
      "metadata": {
        "id": "rpzUdoNnTEng"
      }
    },
    {
      "cell_type": "code",
      "source": [
        "n = 16\n",
        "if n % 2 == 0:\n",
        "    print(n//2)\n",
        "elif n<10:\n",
        "    print(2*n)\n",
        "else:\n",
        "    print(n-1)"
      ],
      "metadata": {
        "colab": {
          "base_uri": "https://localhost:8080/"
        },
        "id": "z5Z5C5j1S5Kh",
        "outputId": "78bb75d3-3eb3-4583-c352-44e977b874b8"
      },
      "execution_count": 3,
      "outputs": [
        {
          "output_type": "stream",
          "name": "stdout",
          "text": [
            "8\n"
          ]
        }
      ]
    },
    {
      "cell_type": "markdown",
      "source": [
        "##Takrorlash buyrug‘i\n",
        "1.1 dan 20 gacha bo‘lgan toq sonlar yig‘indisini hisoblang.  \n",
        "2.1 dan boshlab ketma-ket sonlar yig‘indisi 100 dan kichik bo‘lmagan eng kichik musbat butun sonni (n) toping.  "
      ],
      "metadata": {
        "id": "HrFwIyXCTn5U"
      }
    },
    {
      "cell_type": "code",
      "source": [
        "s = 0\n",
        "for i in range(1, 21, 2):\n",
        "    s += i\n",
        "    print(s)\n",
        "\n",
        "s = n = 1\n",
        "while s < 100:\n",
        "    s += n\n",
        "    n += 1\n",
        "print(n)"
      ],
      "metadata": {
        "colab": {
          "base_uri": "https://localhost:8080/"
        },
        "id": "QLsjSdKeThV2",
        "outputId": "771aaf09-3f90-4d3d-d355-a8ed2cf0436a"
      },
      "execution_count": 4,
      "outputs": [
        {
          "output_type": "stream",
          "name": "stdout",
          "text": [
            "1\n",
            "4\n",
            "9\n",
            "16\n",
            "25\n",
            "36\n",
            "49\n",
            "64\n",
            "81\n",
            "100\n",
            "15\n"
          ]
        }
      ]
    },
    {
      "cell_type": "markdown",
      "source": [
        "##Ro'yxat turi  \n",
        "1.L 10 ta butun sonni o'z ichiga oladi: L = [3, 6, 2, 5, 7, 9, 1, 0, 8, 4]  \n",
        "2.L ning jami, minimal, maksimal, o'rtacha qiymatlarini hisoblash  \n",
        "3.L ning oxirgi elementini chiqarish  \n",
        "4.L ro'yxatidan 2-chi pozitsiyadan 8-chi pozitsiyagacha bo'lgan elementlarni chiqarish  \n",
        "5.L ro'yxatidagi juft pozitsiyadagi elementlarni chiqarish  \n",
        "6.L ni o'sish tartibida saralash  \n",
        "7.L ni teskari tartibda chiqarish  "
      ],
      "metadata": {
        "id": "PhHk6UX-UkDh"
      }
    },
    {
      "cell_type": "code",
      "source": [
        "L = [3, 6, 2, 5, 7, 9, 1, 0, 8, 4]\n",
        "s = sum(L)\n",
        "m1 = min(L)\n",
        "m2 = max(L)\n",
        "print('Sum, min, max:', s, m1, m2)\n",
        "print('Average:', s/len(L))\n",
        "print('The last:', L[-1])\n",
        "print(L[2:9])\n",
        "print(L[::2])\n",
        "L.sort()\n",
        "print(L)\n",
        "print(L[::-1])"
      ],
      "metadata": {
        "colab": {
          "base_uri": "https://localhost:8080/"
        },
        "id": "Xa3Q2EhcUFUv",
        "outputId": "38e68312-4fe2-4696-a712-bf7e5c358feb"
      },
      "execution_count": 5,
      "outputs": [
        {
          "output_type": "stream",
          "name": "stdout",
          "text": [
            "Sum, min, max: 45 0 9\n",
            "Average: 4.5\n",
            "The last: 4\n",
            "[2, 5, 7, 9, 1, 0, 8]\n",
            "[3, 2, 7, 1, 8]\n",
            "[0, 1, 2, 3, 4, 5, 6, 7, 8, 9]\n",
            "[9, 8, 7, 6, 5, 4, 3, 2, 1, 0]\n"
          ]
        }
      ]
    }
  ]
}